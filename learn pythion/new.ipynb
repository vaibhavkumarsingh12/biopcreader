{
 "cells": [
  {
   "cell_type": "code",
   "execution_count": 1,
   "id": "03ccc4d7",
   "metadata": {},
   "outputs": [
    {
     "name": "stdout",
     "output_type": "stream",
     "text": [
      "Porches - rangerover\n",
      "Mount Eerie - You Swan, Go On\n",
      "Carolyn Polachek - Look at Me Now\n",
      "Pinegrove - Darkness\n",
      "LVL UP - Spirit Was\n",
      "Mitski - First Love / Late Spring\n"
     ]
    }
   ],
   "source": [
    "# 💿 Theme: Indie Travel Songs\n",
    "\n",
    "playlist = [\n",
    "  'Porches - rangerover',\n",
    "  'Mount Eerie - You Swan, Go On',\n",
    "  'Carolyn Polachek - Look at Me Now',\n",
    "  'Pinegrove - Darkness',\n",
    "  'LVL UP - Spirit Was',\n",
    "  'Mitski - First Love / Late Spring'\n",
    "]\n",
    "\n",
    "for i in playlist:\n",
    "    print(i)"
   ]
  },
  {
   "cell_type": "code",
   "execution_count": null,
   "id": "158acd8c",
   "metadata": {},
   "outputs": [
    {
     "name": "stdout",
     "output_type": "stream",
     "text": [
      "Don't pursue happiness – create it.\n",
      "2\n"
     ]
    },
    {
     "data": {
      "text/plain": [
       "'The fortune you search for is in another cookie.'"
      ]
     },
     "execution_count": 49,
     "metadata": {},
     "output_type": "execute_result"
    }
   ],
   "source": [
    "import random\n",
    "def fortune():\n",
    "    fortunes = [\n",
    " \"Don't pursue happiness – create it.\",\n",
    " \"All things are difficult before they are easy.\",\n",
    " \"The early bird gets the worm, but the second mouse gets the cheese.\",\n",
    " \"Someone in your life needs a letter from you.\",\n",
    " \"Don't just think. Act!\",\n",
    " \"Your heart will skip a beat.\",\n",
    " \"The fortune you search for is in another cookie.\",\n",
    " \"Help! I'm being held prisoner in a Chinese bakery!\",\n",
    "    ]\n",
    "    print(random.choice(fortunes))\n",
    "    print(random.randint(fortunes.index(fortunes[0]), fortunes.index(fortunes[-1])))\n",
    "    return random.choice(fortunes)\n",
    "\n",
    "\n",
    "fortune()\n",
    "\n"
   ]
  },
  {
   "cell_type": "code",
   "execution_count": null,
   "id": "95bd452f",
   "metadata": {},
   "outputs": [],
   "source": [
    "import random\n",
    "\n",
    "fortunes = [\n",
    "    \"Don't pursue happiness – create it.\",\n",
    "    \"All things are difficult before they are easy.\",\n",
    "    \"The early bird gets the worm, but the second mouse gets the cheese.\",\n",
    "    \"Someone in your life needs a letter from you.\",\n",
    "    \"Don't just think. Act!\",\n",
    "    \"Your heart will skip a beat.\",\n",
    "    \"The fortune you search for is in another cookie.\",\n",
    "    \"Help! I'm being held prisoner in a Chinese bakery!\"\n",
    "]\n",
    "\n",
    "def fortune():\n",
    "    index = random.randint(0, len(fortunes) - 1)\n",
    "    print(fortunes[index])\n",
    "\n",
    "fortune()\n",
    "fortune()\n",
    "fortune()\n"
   ]
  },
  {
   "cell_type": "code",
   "execution_count": null,
   "id": "99f52cb7",
   "metadata": {},
   "outputs": [],
   "source": [
    "def distance_to_miles(distance):\n",
    "    distance_to_miles = distance / 1.60934\n",
    "    print(f\"{distance} kilometers is equal to {distance_to_miles:.2f} miles\")\n",
    "\n",
    "\n",
    "distance_to_miles(1000)"
   ]
  },
  {
   "cell_type": "code",
   "execution_count": 10,
   "id": "128512d3",
   "metadata": {},
   "outputs": [
    {
     "name": "stdout",
     "output_type": "stream",
     "text": [
      "1000 kilometers is equal to 621.37 miles\n"
     ]
    }
   ],
   "source": [
    "def distance_to_miles(distance):\n",
    "    distance_to_miles = distance / 1.60934\n",
    "    print(f\"{distance} kilometers is equal to {distance_to_miles:.2f} miles\")\n",
    "\n",
    "\n",
    "distance_to_miles(1000)"
   ]
  },
  {
   "cell_type": "code",
   "execution_count": 15,
   "id": "e85d1ec6",
   "metadata": {},
   "outputs": [
    {
     "name": "stdout",
     "output_type": "stream",
     "text": [
      "15\n"
     ]
    },
    {
     "data": {
      "text/plain": [
       "30"
      ]
     },
     "execution_count": 15,
     "metadata": {},
     "output_type": "execute_result"
    }
   ],
   "source": [
    "def add(x, y):\n",
    "  answer = x + y\n",
    "  return answer\n",
    "\n",
    "\n",
    "print(add (5, 10))\n",
    "add (10, 20)"
   ]
  },
  {
   "cell_type": "code",
   "execution_count": null,
   "id": "9298a277",
   "metadata": {},
   "outputs": [
    {
     "name": "stdout",
     "output_type": "stream",
     "text": [
      "15\n",
      "-10\n",
      "200\n",
      "0.5\n",
      "100000000000000000000\n"
     ]
    }
   ],
   "source": [
    "\n",
    "def add(x, y):\n",
    "    answer = x + y\n",
    "    return answer\n",
    "\n",
    "def subtract(x, y):\n",
    "    answer = x - y\n",
    "    return answer\n",
    "\n",
    "def multiply(x, y):\n",
    "    answer = x * y\n",
    "    return answer\n",
    "\n",
    "def divide(x, y):\n",
    "    answer = x / y\n",
    "    return answer\n",
    "\n",
    "def exponent(x, y):\n",
    "    answer = x ** y\n",
    "    return answer\n",
    "    \n",
    "\n",
    "print(add (5, 10))\n",
    "print(subtract (10, 20))\n",
    "print(multiply (10, 20))\n",
    "print(divide (10, 20))\n",
    "print(exponent (10, 20))\n",
    "\n"
   ]
  },
  {
   "cell_type": "code",
   "execution_count": 20,
   "id": "1b4b071c",
   "metadata": {},
   "outputs": [
    {
     "name": "stdout",
     "output_type": "stream",
     "text": [
      "7\n"
     ]
    }
   ],
   "source": [
    "answer = 0\n",
    "\n",
    "def add(x, y):\n",
    "  answer = x + y\n",
    "\n",
    "  return answer\n",
    "\n",
    "\n",
    "\n",
    "print(add(3, 4))\n"
   ]
  },
  {
   "cell_type": "code",
   "execution_count": 29,
   "id": "35a83da5",
   "metadata": {},
   "outputs": [
    {
     "name": "stdout",
     "output_type": "stream",
     "text": [
      "36.09\n",
      "34.68\n",
      "34.68\n"
     ]
    }
   ],
   "source": [
    "stock_prices = [34.68, 36.09, 34.94, 33.97, 34.68, 35.82, 43.41, 44.29, 44.65, 53.56, 49.85, 48.71, 48.71, 49.94, 48.53, 47.03, 46.59, 48.62, 44.21, 47.21]\n",
    "\n",
    "def price_at(i):\n",
    "    return stock_prices[i-1]\n",
    "\n",
    "a = int(input(\"enter to find out the maximun and minimumstock price form day 1 to  \"))\n",
    "b = int(input(\"the  \"))\n",
    "\n",
    "\n",
    "\n",
    "print(price_at(2))\n",
    "print(price_at(max(a, b)))\n",
    "print(price_at(min(a, b)))\n",
    "\n"
   ]
  },
  {
   "cell_type": "code",
   "execution_count": 50,
   "id": "4cb066ad",
   "metadata": {},
   "outputs": [
    {
     "name": "stdout",
     "output_type": "stream",
     "text": [
      "Price on day 10: $53.56\n",
      "Maximum price between days 5 and 15: $36.09\n",
      "Minimum price between days 5 and 15: $34.68\n"
     ]
    }
   ],
   "source": [
    "# Stock Prices\n",
    "stock_prices = [34.68, 36.09, 34.94, 33.97, 34.68, 35.82, 43.41, 44.29, 44.65, 53.56, 49.85, 48.71, 48.71, 49.94, 48.53, 47.03, 46.59, 48.62, 44.21, 47.21]\n",
    "\n",
    "def price_at(x):\n",
    "    \"\"\"Returns the stock price on day x\"\"\"\n",
    "    return stock_prices[x-1]\n",
    "\n",
    "def max_price(a, b):\n",
    "    \"\"\"Finds the maximum price between days a and b (inclusive)\"\"\"\n",
    "    # Convert from 1-indexed days to 0-indexed list positions\n",
    "    start = min(a, b) - 1\n",
    "    end = max(a, b) - 1\n",
    "    \n",
    "    # Extract the relevant slice of prices and find maximum\n",
    "    return max(stock_prices[start:end+1])\n",
    "\n",
    "def min_price(a, b):\n",
    "    \"\"\"Finds the minimum price between days a and b (inclusive)\"\"\"\n",
    "    # Convert from 1-indexed days to 0-indexed list positions\n",
    "    start = min(a, b) - 1\n",
    "    end = max(a, b) - 1\n",
    "    \n",
    "    # Extract the relevant slice of prices and find minimum\n",
    "    return min(stock_prices[start:end+1])\n",
    "\n",
    "# Test the functions\n",
    "print(f\"Price on day 10: ${price_at(10)}\")\n",
    "print(f\"Maximum price between days 5 and 15: ${max_price(1, 3)}\")\n",
    "print(f\"Minimum price between days 5 and 15: ${min_price(5, 15)}\")"
   ]
  },
  {
   "cell_type": "code",
   "execution_count": 61,
   "id": "5e689396",
   "metadata": {},
   "outputs": [
    {
     "name": "stdout",
     "output_type": "stream",
     "text": [
      "Price on day 10: $53.56\n",
      "Maximum price between days 5 and 15: $53.56\n",
      "Minimum price between days 5 and 15: $34.68\n"
     ]
    }
   ],
   "source": [
    "# Stock Prices\n",
    "stock_prices = [34.68, 36.09, 34.94, 33.97, 34.68, 35.82, 43.41, 44.29, 44.65, 53.56, 49.85, 48.71, 48.71, 49.94, 48.53, 47.03, 46.59, 48.62, 44.21, 47.21]\n",
    "\n",
    "def price_at(x):\n",
    "    \"\"\"Returns the stock price on day x\"\"\"\n",
    "    return stock_prices[x-1]\n",
    "\n",
    "def max_price(a,b):\n",
    "    \"\"\"Finds the maximum price between days a and b (inclusive)\"\"\"\n",
    "    # Convert from 1-indexed days to 0-indexed list positions\n",
    "    return max(stock_prices[a - 1 : b])\n",
    "\n",
    "def min_price(a, b):\n",
    "    \"\"\"Finds the minimum price between days a and b (inclusive)\"\"\"\n",
    "    return min(stock_prices[a - 1 : b])\n",
    "\n",
    "    \n",
    "\n",
    "# Test the functions\n",
    "print(f\"Price on day 10: ${price_at(10)}\")\n",
    "print(f\"Maximum price between days 5 and 15: ${max_price(5, 15)}\")\n",
    "print(f\"Minimum price between days 5 and 15: ${min_price(5, 15)}\")"
   ]
  },
  {
   "cell_type": "code",
   "execution_count": 65,
   "id": "8d3b4e3b",
   "metadata": {},
   "outputs": [
    {
     "name": "stdout",
     "output_type": "stream",
     "text": [
      "Soda\n"
     ]
    }
   ],
   "source": [
    "food = [\"Cheeseburger\",\n",
    "\"Fries\",\n",
    "\"Soda\",\n",
    "\"Ice Cream\",\n",
    "\"Cookie\"]\n",
    "\n",
    "def get_item(i):\n",
    "    order = int(input(\"enter the number i.e 1 chesseburger ,2 fries ,3 soda ,4 ice cream ,5 cookie \"))\n",
    "    return food[order - 1]\n",
    "\n",
    "print(get_item(1))\n"
   ]
  },
  {
   "cell_type": "code",
   "execution_count": 68,
   "id": "c3ed314c",
   "metadata": {},
   "outputs": [
    {
     "name": "stdout",
     "output_type": "stream",
     "text": [
      "{'name': \"Bob's Burgers\", 'category': 'American Diner', 'rating': 4.7, 'delivery': False}\n"
     ]
    }
   ],
   "source": [
    "class restarurant:\n",
    "    name =\"\"\n",
    "    ctategory = \"\"\n",
    "    rating = 0.0\n",
    "    delivery = bool()\n",
    "\n",
    "bobs_burgers = restarurant()\n",
    "bobs_burgers.name = 'Bob\\'s Burgers'\n",
    "bobs_burgers.category = 'American Diner'\n",
    "bobs_burgers.rating = 4.7\n",
    "bobs_burgers.delivery = False\n",
    "\n",
    "\n",
    "print(vars(bobs_burgers))\n"
   ]
  },
  {
   "cell_type": "code",
   "execution_count": null,
   "id": "b7be0d7a",
   "metadata": {},
   "outputs": [],
   "source": [
    "class city:\n",
    "    def __init__(self, name, country, papulation, landmark):\n",
    "        self.name = name\n",
    "        self.country = country\n",
    "        self.population = papulation\n",
    "        self.landmark = landmark\n",
    "        self.visited = False\n",
    "\n",
    "new_york = city(\"New York\", \"USA\", 8419600, \"Statue of Liberty\")\n",
    "los_angeles = city(\"Los Angeles\", \"USA\", 3980400, \"Hollywood Sign\")\n",
    "patna = city(\"Patna\", \"India\", 1684222, \"Golghar\")\n",
    "delhi = city(\"Delhi\", \"India\", 21800000, \"Red Fort\")\n",
    "\n",
    "\n",
    "print(vars(new_york))\n",
    "print(vars(los_angeles))\n",
    "print(vars(patna))  "
   ]
  },
  {
   "cell_type": "code",
   "execution_count": 1,
   "id": "a687aa8e",
   "metadata": {},
   "outputs": [
    {
     "name": "stdout",
     "output_type": "stream",
     "text": [
      "7.5\n",
      "2.4\n"
     ]
    }
   ],
   "source": [
    "def kda(k, a, d):\n",
    "    return (k + a) / d\n",
    "\n",
    "def kda1(kills, deaths, assists):\n",
    "    return (kills + assists) / deaths\n",
    "\n",
    "print(kda(10, 5, 2))  # Example usage\n",
    "print(kda1(10, 5, 2))  # Example usage\n",
    "\n"
   ]
  },
  {
   "cell_type": "code",
   "execution_count": 5,
   "id": "e95bc7e5",
   "metadata": {},
   "outputs": [
    {
     "name": "stdout",
     "output_type": "stream",
     "text": [
      "Doe,John Doe\n",
      "Smith,Jane Smith\n"
     ]
    }
   ],
   "source": [
    "def greetings (first_name, last_name):\n",
    "    print(last_name + \",\" + first_name + \" \" + last_name)\n",
    "\n",
    "greetings(\"John\", \"Doe\")\n",
    "greetings(\"Jane\", \"Smith\")"
   ]
  },
  {
   "cell_type": "code",
   "execution_count": 7,
   "id": "139f2e50",
   "metadata": {},
   "outputs": [
    {
     "name": "stdout",
     "output_type": "stream",
     "text": [
      "15.0\n"
     ]
    }
   ],
   "source": [
    "def avarage (num1 , num2):\n",
    "    return (num1 + num2) / 2\n",
    "\n",
    "print(avarage(10, 20)) # Example usage"
   ]
  },
  {
   "cell_type": "code",
   "execution_count": 16,
   "id": "cc314850",
   "metadata": {},
   "outputs": [
    {
     "name": "stdout",
     "output_type": "stream",
     "text": [
      "The moon is not visible.🌑\n",
      "The moon is not visible.🌑\n"
     ]
    }
   ],
   "source": [
    "# Write code below 💖\n",
    "\n",
    "def moon_phase(phase):\n",
    "    if phase == \"New Moon\":\n",
    "        return \"🌑\"\n",
    "    elif phase == \"waxing crescent\":\n",
    "        return \"The moon is a thin crescent.🌒\"\n",
    "    elif phase == \"first quarter\":\n",
    "        return \"The moon is half full.🌓\"\n",
    "    elif phase == \"waxing gibbous\":\n",
    "        return \"The moon is more than half full.🌔\"\n",
    "    elif phase == \"full moon\":\n",
    "        return \"The moon is fully illuminated.🌕\"\n",
    "    elif phase == \"waning gibbous\":\n",
    "        return \"The moon is more than half full but decreasing.🌖\"\n",
    "    elif phase == \"last quarter\":\n",
    "        return \"The moon is half full but decreasing.🌗\"\n",
    "    elif phase == \"waning crescent\":\n",
    "        return \"The moon is a thin crescent but decreasing.🌘\"\n",
    "    else:\n",
    "        return \"Invalid phase. Please enter a valid moon phase.\"\n",
    "    \n",
    "\n",
    "answer = moon_phase('New Moon')\n",
    "print(answer)  \n"
   ]
  },
  {
   "cell_type": "code",
   "execution_count": 17,
   "id": "2e0af952",
   "metadata": {},
   "outputs": [
    {
     "name": "stdout",
     "output_type": "stream",
     "text": [
      "Landon is 21 years old in human  years.\n",
      "Red Bean is 42 years old in human  years.\n",
      "Cooper is 14 years old in human  years.\n"
     ]
    },
    {
     "data": {
      "text/plain": [
       "14"
      ]
     },
     "execution_count": 17,
     "metadata": {},
     "output_type": "execute_result"
    }
   ],
   "source": [
    "def dog_years(name , age):\n",
    "    dog_years = age * 7\n",
    "    print(f\"{name} is {dog_years} years old in human  years.\")\n",
    "    return dog_years\n",
    "\n",
    "\n",
    "\n",
    "dog_years('Landon', 3)\n",
    "dog_years('Red Bean', 6)\n",
    "dog_years('Cooper', 2)"
   ]
  },
  {
   "cell_type": "code",
   "execution_count": 18,
   "id": "c0679d3c",
   "metadata": {},
   "outputs": [
    {
     "name": "stdout",
     "output_type": "stream",
     "text": [
      "John's account balance: 1000.0\n",
      "Deposited 96.0 into John's account. New balance: 1096.0\n",
      "Withdrew 25.0 from John's account. New balance: 1071.0\n",
      "John's account balance: 1071.0\n",
      "Vaibhav's account balance: 500.0\n",
      "Deposited 200.0 into Vaibhav's account. New balance: 700.0\n",
      "Withdrew 50.0 from Vaibhav's account. New balance: 650.0\n",
      "Vaibhav's account balance: 650.0\n"
     ]
    }
   ],
   "source": [
    "class BankAccount:\n",
    "    def __init__(self, first_name , last_name ,account_id ,account_type ,pin ,balance ):\n",
    "        self.first_name = first_name\n",
    "        self.last_name = last_name\n",
    "        self.account_id = account_id\n",
    "        self.account_type = account_type\n",
    "        self.pin = pin\n",
    "        self.balance = balance\n",
    "\n",
    "    def deposit(self, amount):\n",
    "        self.balance += amount\n",
    "        print(f\"Deposited {amount} into {self.first_name}'s account. New balance: {self.balance}\")\n",
    "\n",
    "    def withdraw(self, amount):\n",
    "        if amount <= self.balance:\n",
    "            self.balance -= amount\n",
    "            print(f\"Withdrew {amount} from {self.first_name}'s account. New balance: {self.balance}\")\n",
    "        else:\n",
    "            print(\"Insufficient funds for withdrawal.\")\n",
    "\n",
    "    def display_balance(self):\n",
    "        print(f\"{self.first_name}'s account balance: {self.balance}\")\n",
    "\n",
    "\n",
    "# Create an instance of the BankAccount class\n",
    "john = BankAccount(\"John\", \"Doe\", \"123456789\", \"Savings\", \"1234\", 1000.0)\n",
    "vaibhav = BankAccount(\"Vaibhav\", \"Kumar\", \"987654321\", \"Checking\", \"5678\", 500.0)   \n",
    "\n",
    "# Perform some operations\n",
    "john.display_balance()  # Display initial balance\n",
    "john.deposit(96.0)\n",
    "john.withdraw(25.0)\n",
    "john.display_balance()\n",
    "\n",
    "\n",
    "vaibhav.display_balance()  # Display initial balance\n",
    "vaibhav.deposit(200.0)\n",
    "vaibhav.withdraw(50.0)\n",
    "vaibhav.display_balance()"
   ]
  },
  {
   "cell_type": "code",
   "execution_count": 22,
   "id": "ad110f47",
   "metadata": {},
   "outputs": [
    {
     "name": "stdout",
     "output_type": "stream",
     "text": [
      "Pikachu says hello!\n",
      "Entry: 25\n",
      "Name: Pikachu\n",
      "Types: ['Electric']\n",
      "Description: A small yellow mouse-like Pokémon.\n",
      "Caught: True\n",
      "Caught Date: 2023-10-01\n",
      "Charizard says hello!\n",
      "Entry: 6\n",
      "Name: Charizard\n",
      "Types: ['Fire', 'Flying']\n",
      "Description: A large dragon-like Pokémon.\n",
      "Caught: False\n",
      "Caught Date: None\n",
      "Mewtwo says hello!\n",
      "Entry: 150\n",
      "Name: Mewtwo\n",
      "Types: ['Psychic']\n",
      "Description: A powerful psychic Pokémon.\n",
      "Caught: True\n",
      "Caught Date: 2023-10-02\n",
      "Mew says hello!\n",
      "Entry: 151\n",
      "Name: Mew\n",
      "Types: ['Psychic']\n",
      "Description: A small pink Pokémon with psychic abilities.\n",
      "Caught: True\n",
      "Caught Date: 2023-10-03\n"
     ]
    }
   ],
   "source": [
    "class pokemon:\n",
    "    def __init__(self, entry, name, types, discription, is_caught, caught_date):\n",
    "        self.entry = entry\n",
    "        self.name = name\n",
    "        self.types = types\n",
    "        self.discription = discription\n",
    "        self.is_caught = is_caught\n",
    "        self.caught_date = caught_date\n",
    "\n",
    "    \n",
    "    def speak(self):\n",
    "            print(f\"{self.name} says hello!\") \n",
    "    def display_details(self):\n",
    "            print(f\"Entry: {self.entry}\")\n",
    "            print(f\"Name: {self.name}\")\n",
    "            print(f\"Types: {self.types}\")\n",
    "            print(f\"Description: {self.discription}\")\n",
    "            print(f\"Caught: {self.is_caught}\")\n",
    "            print(f\"Caught Date: {self.caught_date}\")\n",
    "\n",
    "pikachu = pokemon(25, \"Pikachu\", [\"Electric\"], \"A small yellow mouse-like Pokémon.\", True, \"2023-10-01\")\n",
    "charizard = pokemon(6, \"Charizard\", [\"Fire\", \"Flying\"], \"A large dragon-like Pokémon.\", False, None)\n",
    "mewtwo = pokemon(150, \"Mewtwo\", [\"Psychic\"], \"A powerful psychic Pokémon.\", True, \"2023-10-02\")\n",
    "mew = pokemon(151, \"Mew\", [\"Psychic\"], \"A small pink Pokémon with psychic abilities.\", True, \"2023-10-03\")\n",
    "\n",
    "\n",
    "\n",
    "\n",
    "pikachu.speak()\n",
    "pikachu.display_details()\n",
    "\n",
    "charizard.speak()\n",
    "charizard.display_details()\n",
    "\n",
    "mewtwo.speak()\n",
    "mewtwo.display_details()\n",
    "\n",
    "mew.speak()\n",
    "mew.display_details()\n",
    "\n",
    "\n"
   ]
  },
  {
   "cell_type": "code",
   "execution_count": 23,
   "id": "d4f7511c",
   "metadata": {},
   "outputs": [
    {
     "name": "stdout",
     "output_type": "stream",
     "text": [
      "[5, 1, 5]\n"
     ]
    }
   ],
   "source": [
    "import random\n",
    "\n",
    "dice = [1, 2, 3, 4, 5, 6]\n",
    "\n",
    "print(random.choices(dice, k=3))"
   ]
  },
  {
   "cell_type": "code",
   "execution_count": 169,
   "id": "b08d6667",
   "metadata": {},
   "outputs": [
    {
     "name": "stdout",
     "output_type": "stream",
     "text": [
      "['🍉', '🍒', ' 🍇']\n",
      "thanka foe playing !\n"
     ]
    }
   ],
   "source": [
    "import random\n",
    "\n",
    "symbols = ['🍒',' 🍇', '🍉', '7️⃣']\n",
    "\n",
    "result = random.choices(symbols,k=3)\n",
    "print(result)\n",
    "if result[0] == result[1] ==  result[2]  == '7️⃣':\n",
    "    print(\"You win!\")\n",
    "else:\n",
    "    print(\"thanka foe playing !\")\n",
    "\n",
    "\n",
    "\n"
   ]
  },
  {
   "cell_type": "code",
   "execution_count": 174,
   "id": "1e52e376",
   "metadata": {},
   "outputs": [
    {
     "name": "stdout",
     "output_type": "stream",
     "text": [
      "[' 🍇', '7️⃣', '🍒']\n",
      "thanka foe playing !\n",
      "[' 🍇', '🍉', '🍒']\n",
      "thanka foe playing !\n"
     ]
    }
   ],
   "source": [
    "import random\n",
    "yuu = int(input(\"Enter how many time you want to gamble: \"))\n",
    "def play():\n",
    "    symbols = ['🍒',' 🍇', '🍉', '7️⃣']\n",
    "    guess = 0\n",
    "    while guess != yuu:\n",
    "        result = random.choices(symbols,k=3)\n",
    "        print(result)\n",
    "        if result[0] == result[1] ==  result[2]  == '7️⃣':\n",
    "            print(\"You win!\")\n",
    "        else:\n",
    "            print(\"thanka foe playing !\")\n",
    "        guess += 1\n",
    "\n",
    "    angain = input(\"Do you want to play again? (yes/no): \")\n",
    "    if angain.lower() == 'yes':\n",
    "        play()\n",
    "    else:\n",
    "        print(\"Thanks for playing!\")\n",
    "        \n",
    "\n",
    "    \n",
    "\n",
    "\n",
    "play()\n"
   ]
  },
  {
   "cell_type": "code",
   "execution_count": null,
   "id": "f3a9889a",
   "metadata": {},
   "outputs": [],
   "source": [
    "import random\n",
    "\n",
    "def play_round():\n",
    "    \"\"\"Play a single round of the slot machine\"\"\"\n",
    "    symbols = ['🍒', '🍇', '🍉', '7️⃣']\n",
    "    result = random.choices(symbols, k=3)\n",
    "    \n",
    "    # Display results with pipe separators\n",
    "    print(f\"{result[0]} | {result[1]} | {result[2]}\")\n",
    "    \n",
    "    # Check if player won\n",
    "    if result[0] == result[1] == result[2] == '7️⃣':\n",
    "        print(\"Jackpot! 💰\")\n",
    "    else:\n",
    "        print(\"Thanks for playing!\")\n",
    "    \n",
    "    return\n",
    "\n",
    "def play():\n",
    "    \"\"\"Main game function with replay loop\"\"\"\n",
    "    rounds = int(input(\"Enter how many times you want to gamble: \"))\n",
    "    \n",
    "    for _ in range(rounds):\n",
    "        play_round()\n",
    "    \n",
    "    # Use a while loop for replay instead of recursion\n",
    "    while True:\n",
    "        again = input(\"Do you want to play again? (Y/N): \").upper()\n",
    "        if again == 'Y':\n",
    "            rounds = int(input(\"Enter how many times you want to gamble: \"))\n",
    "            for _ in range(rounds):\n",
    "                play_round()\n",
    "        elif again == 'N':\n",
    "            print(\"Thanks for playing!\")\n",
    "            break\n",
    "        else:\n",
    "            print(\"Invalid input. Please enter Y or N.\")\n",
    "\n",
    "# Start the game\n",
    "play()"
   ]
  },
  {
   "cell_type": "code",
   "execution_count": 175,
   "id": "b5b5b321",
   "metadata": {},
   "outputs": [
    {
     "name": "stdout",
     "output_type": "stream",
     "text": [
      "Random planet: Saturn\n",
      "Area: 42612133285.01 square kilometers\n",
      "Volume: 827129915150897.50 cubic kilometers\n"
     ]
    }
   ],
   "source": [
    "from math import pi, sqrt\n",
    "from random import choice as ch\n",
    "\n",
    "planets = [\n",
    "  'Mercury',\n",
    "  'Venus',\n",
    "  'Earth',\n",
    "  'Mars',\n",
    "  'Saturn'\n",
    "]\n",
    "\n",
    "\n",
    "\n",
    "random_planet = ch(planets)\n",
    "print(f\"Random planet: {random_planet}\")\n",
    "if random_planet == 'Mercury':\n",
    "    r = 2439.7\n",
    "elif random_planet == 'Venus':\n",
    "    r = 6051.8\n",
    "elif random_planet == 'Earth':\n",
    "    r = 6371.0\n",
    "elif random_planet == 'Mars':\n",
    "    r = 3389.5\n",
    "elif random_planet == 'Saturn':\n",
    "    r = 58232.0\n",
    "else:\n",
    "    r = 0\n",
    "\n",
    "arear = 4*pi*r**2\n",
    "volume = (4/3)*pi*r**3\n",
    "\n",
    "print(f\"Area: {arear:.2f} square kilometers\")\n",
    "print(f\"Volume: {volume:.2f} cubic kilometers\")\\\n",
    "\n"
   ]
  },
  {
   "cell_type": "code",
   "execution_count": 178,
   "id": "2bd59258",
   "metadata": {},
   "outputs": [
    {
     "ename": "FileNotFoundError",
     "evalue": "No such file: 'c:\\Users\\DELL\\.cursor\\dictionary\\learn pythion\\image1.jpg'",
     "output_type": "error",
     "traceback": [
      "\u001b[31m---------------------------------------------------------------------------\u001b[39m",
      "\u001b[31mFileNotFoundError\u001b[39m                         Traceback (most recent call last)",
      "\u001b[36mCell\u001b[39m\u001b[36m \u001b[39m\u001b[32mIn[178]\u001b[39m\u001b[32m, line 9\u001b[39m\n\u001b[32m      7\u001b[39m images = []\n\u001b[32m      8\u001b[39m \u001b[38;5;28;01mfor\u001b[39;00m filename \u001b[38;5;129;01min\u001b[39;00m filenames:\n\u001b[32m----> \u001b[39m\u001b[32m9\u001b[39m     images.append(\u001b[43miio\u001b[49m\u001b[43m.\u001b[49m\u001b[43mimread\u001b[49m\u001b[43m(\u001b[49m\u001b[43mfilename\u001b[49m\u001b[43m)\u001b[49m)\n\u001b[32m     11\u001b[39m iio.imwrite(\u001b[33m'\u001b[39m\u001b[33moutput.gif\u001b[39m\u001b[33m'\u001b[39m, images, duration=\u001b[32m0.5\u001b[39m , loop = \u001b[32m0\u001b[39m)\n",
      "\u001b[36mFile \u001b[39m\u001b[32mc:\\Users\\DELL\\.cursor\\dictionary\\.venv\\Lib\\site-packages\\imageio\\v3.py:53\u001b[39m, in \u001b[36mimread\u001b[39m\u001b[34m(uri, index, plugin, extension, format_hint, **kwargs)\u001b[39m\n\u001b[32m     50\u001b[39m \u001b[38;5;28;01mif\u001b[39;00m index \u001b[38;5;129;01mis\u001b[39;00m \u001b[38;5;129;01mnot\u001b[39;00m \u001b[38;5;28;01mNone\u001b[39;00m:\n\u001b[32m     51\u001b[39m     call_kwargs[\u001b[33m\"\u001b[39m\u001b[33mindex\u001b[39m\u001b[33m\"\u001b[39m] = index\n\u001b[32m---> \u001b[39m\u001b[32m53\u001b[39m \u001b[38;5;28;01mwith\u001b[39;00m \u001b[43mimopen\u001b[49m\u001b[43m(\u001b[49m\u001b[43muri\u001b[49m\u001b[43m,\u001b[49m\u001b[43m \u001b[49m\u001b[33;43m\"\u001b[39;49m\u001b[33;43mr\u001b[39;49m\u001b[33;43m\"\u001b[39;49m\u001b[43m,\u001b[49m\u001b[43m \u001b[49m\u001b[43m*\u001b[49m\u001b[43m*\u001b[49m\u001b[43mplugin_kwargs\u001b[49m\u001b[43m)\u001b[49m \u001b[38;5;28;01mas\u001b[39;00m img_file:\n\u001b[32m     54\u001b[39m     \u001b[38;5;28;01mreturn\u001b[39;00m np.asarray(img_file.read(**call_kwargs))\n",
      "\u001b[36mFile \u001b[39m\u001b[32mc:\\Users\\DELL\\.cursor\\dictionary\\.venv\\Lib\\site-packages\\imageio\\core\\imopen.py:113\u001b[39m, in \u001b[36mimopen\u001b[39m\u001b[34m(uri, io_mode, plugin, extension, format_hint, legacy_mode, **kwargs)\u001b[39m\n\u001b[32m    111\u001b[39m     request.format_hint = format_hint\n\u001b[32m    112\u001b[39m \u001b[38;5;28;01melse\u001b[39;00m:\n\u001b[32m--> \u001b[39m\u001b[32m113\u001b[39m     request = \u001b[43mRequest\u001b[49m\u001b[43m(\u001b[49m\u001b[43muri\u001b[49m\u001b[43m,\u001b[49m\u001b[43m \u001b[49m\u001b[43mio_mode\u001b[49m\u001b[43m,\u001b[49m\u001b[43m \u001b[49m\u001b[43mformat_hint\u001b[49m\u001b[43m=\u001b[49m\u001b[43mformat_hint\u001b[49m\u001b[43m,\u001b[49m\u001b[43m \u001b[49m\u001b[43mextension\u001b[49m\u001b[43m=\u001b[49m\u001b[43mextension\u001b[49m\u001b[43m)\u001b[49m\n\u001b[32m    115\u001b[39m source = \u001b[33m\"\u001b[39m\u001b[33m<bytes>\u001b[39m\u001b[33m\"\u001b[39m \u001b[38;5;28;01mif\u001b[39;00m \u001b[38;5;28misinstance\u001b[39m(uri, \u001b[38;5;28mbytes\u001b[39m) \u001b[38;5;28;01melse\u001b[39;00m uri\n\u001b[32m    117\u001b[39m \u001b[38;5;66;03m# fast-path based on plugin\u001b[39;00m\n\u001b[32m    118\u001b[39m \u001b[38;5;66;03m# (except in legacy mode)\u001b[39;00m\n",
      "\u001b[36mFile \u001b[39m\u001b[32mc:\\Users\\DELL\\.cursor\\dictionary\\.venv\\Lib\\site-packages\\imageio\\core\\request.py:249\u001b[39m, in \u001b[36mRequest.__init__\u001b[39m\u001b[34m(self, uri, mode, extension, format_hint, **kwargs)\u001b[39m\n\u001b[32m    246\u001b[39m     \u001b[38;5;28;01mraise\u001b[39;00m \u001b[38;5;167;01mValueError\u001b[39;00m(\u001b[33mf\u001b[39m\u001b[33m\"\u001b[39m\u001b[33mInvalid Request.Mode: \u001b[39m\u001b[38;5;132;01m{\u001b[39;00mmode\u001b[38;5;132;01m}\u001b[39;00m\u001b[33m\"\u001b[39m)\n\u001b[32m    248\u001b[39m \u001b[38;5;66;03m# Parse what was given\u001b[39;00m\n\u001b[32m--> \u001b[39m\u001b[32m249\u001b[39m \u001b[38;5;28;43mself\u001b[39;49m\u001b[43m.\u001b[49m\u001b[43m_parse_uri\u001b[49m\u001b[43m(\u001b[49m\u001b[43muri\u001b[49m\u001b[43m)\u001b[49m\n\u001b[32m    251\u001b[39m \u001b[38;5;66;03m# Set extension\u001b[39;00m\n\u001b[32m    252\u001b[39m \u001b[38;5;28;01mif\u001b[39;00m extension \u001b[38;5;129;01mis\u001b[39;00m \u001b[38;5;129;01mnot\u001b[39;00m \u001b[38;5;28;01mNone\u001b[39;00m:\n",
      "\u001b[36mFile \u001b[39m\u001b[32mc:\\Users\\DELL\\.cursor\\dictionary\\.venv\\Lib\\site-packages\\imageio\\core\\request.py:409\u001b[39m, in \u001b[36mRequest._parse_uri\u001b[39m\u001b[34m(self, uri)\u001b[39m\n\u001b[32m    406\u001b[39m \u001b[38;5;28;01mif\u001b[39;00m is_read_request:\n\u001b[32m    407\u001b[39m     \u001b[38;5;66;03m# Reading: check that the file exists (but is allowed a dir)\u001b[39;00m\n\u001b[32m    408\u001b[39m     \u001b[38;5;28;01mif\u001b[39;00m \u001b[38;5;129;01mnot\u001b[39;00m os.path.exists(fn):\n\u001b[32m--> \u001b[39m\u001b[32m409\u001b[39m         \u001b[38;5;28;01mraise\u001b[39;00m \u001b[38;5;167;01mFileNotFoundError\u001b[39;00m(\u001b[33m\"\u001b[39m\u001b[33mNo such file: \u001b[39m\u001b[33m'\u001b[39m\u001b[38;5;132;01m%s\u001b[39;00m\u001b[33m'\u001b[39m\u001b[33m\"\u001b[39m % fn)\n\u001b[32m    410\u001b[39m \u001b[38;5;28;01melse\u001b[39;00m:\n\u001b[32m    411\u001b[39m     \u001b[38;5;66;03m# Writing: check that the directory to write to does exist\u001b[39;00m\n\u001b[32m    412\u001b[39m     dn = os.path.dirname(fn)\n",
      "\u001b[31mFileNotFoundError\u001b[39m: No such file: 'c:\\Users\\DELL\\.cursor\\dictionary\\learn pythion\\image1.jpg'"
     ]
    }
   ],
   "source": [
    "import imageio.v3 as iio\n",
    "\n",
    "filenames = [\n",
    "    'image1.jpg',\n",
    "    'image.jpg',\n",
    "]\n",
    "images = []\n",
    "for filename in filenames:\n",
    "    images.append(iio.imread(filename))\n",
    "\n",
    "iio.imwrite('output.gif', images, duration=0.5 , loop = 0)"
   ]
  },
  {
   "cell_type": "code",
   "execution_count": null,
   "id": "60bc77ab",
   "metadata": {},
   "outputs": [],
   "source": []
  }
 ],
 "metadata": {
  "kernelspec": {
   "display_name": ".venv",
   "language": "python",
   "name": "python3"
  },
  "language_info": {
   "codemirror_mode": {
    "name": "ipython",
    "version": 3
   },
   "file_extension": ".py",
   "mimetype": "text/x-python",
   "name": "python",
   "nbconvert_exporter": "python",
   "pygments_lexer": "ipython3",
   "version": "3.13.1"
  }
 },
 "nbformat": 4,
 "nbformat_minor": 5
}
